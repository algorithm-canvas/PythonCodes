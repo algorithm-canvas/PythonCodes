{
 "cells": [
  {
   "cell_type": "code",
   "execution_count": 2,
   "metadata": {},
   "outputs": [
    {
     "name": "stdout",
     "output_type": "stream",
     "text": [
      "[4 3 2 1]\n"
     ]
    }
   ],
   "source": [
    "from numpy import *\n",
    "import numpy as np\n",
    "numbers = np.array([-5, 4, 3, 0, 2, 1])\n",
    "pos = numbers[numbers>0]\n",
    "print(pos)"
   ]
  },
  {
   "cell_type": "code",
   "execution_count": 4,
   "metadata": {},
   "outputs": [
    {
     "name": "stdout",
     "output_type": "stream",
     "text": [
      "[40 60 80]\n",
      "[-20 -20 -20]\n",
      "[0.33333333 0.5        0.6       ]\n",
      "[ 300  800 1500]\n"
     ]
    }
   ],
   "source": [
    "\n",
    "a = np.array([10,20,30])\n",
    "b = np.array([30,40,50])\n",
    "print(a+b)\n",
    "print(a-b)\n",
    "print(a/b)\n",
    "print(a*b)"
   ]
  },
  {
   "cell_type": "code",
   "execution_count": 11,
   "metadata": {},
   "outputs": [
    {
     "ename": "ValueError",
     "evalue": "setting an array element with a sequence. The requested array has an inhomogeneous shape after 1 dimensions. The detected shape was (2,) + inhomogeneous part.",
     "output_type": "error",
     "traceback": [
      "\u001b[1;31m---------------------------------------------------------------------------\u001b[0m",
      "\u001b[1;31mValueError\u001b[0m                                Traceback (most recent call last)",
      "Cell \u001b[1;32mIn[11], line 1\u001b[0m\n\u001b[1;32m----> 1\u001b[0m a \u001b[38;5;241m=\u001b[39m \u001b[43mnp\u001b[49m\u001b[38;5;241;43m.\u001b[39;49m\u001b[43marray\u001b[49m\u001b[43m(\u001b[49m\u001b[43m[\u001b[49m\u001b[43m[\u001b[49m\u001b[38;5;241;43m20\u001b[39;49m\u001b[43m,\u001b[49m\u001b[43m \u001b[49m\u001b[38;5;241;43m30\u001b[39;49m\u001b[43m]\u001b[49m\u001b[43m,\u001b[49m\u001b[43m[\u001b[49m\u001b[38;5;241;43m40\u001b[39;49m\u001b[43m,\u001b[49m\u001b[43m \u001b[49m\u001b[38;5;241;43m50\u001b[39;49m\u001b[43m,\u001b[49m\u001b[43m \u001b[49m\u001b[38;5;241;43m60\u001b[39;49m\u001b[43m]\u001b[49m\u001b[43m]\u001b[49m\u001b[43m)\u001b[49m\n\u001b[0;32m      3\u001b[0m \u001b[38;5;28mprint\u001b[39m(a)\n",
      "\u001b[1;31mValueError\u001b[0m: setting an array element with a sequence. The requested array has an inhomogeneous shape after 1 dimensions. The detected shape was (2,) + inhomogeneous part."
     ]
    }
   ],
   "source": [
    "a = np.array([[20, 30],[40, 50, 60]])\n",
    "\n",
    "print(a)\n"
   ]
  },
  {
   "cell_type": "code",
   "execution_count": 13,
   "metadata": {},
   "outputs": [
    {
     "name": "stdout",
     "output_type": "stream",
     "text": [
      "[[20 30 50]\n",
      " [40 50 60]]\n",
      "<class 'numpy.ndarray'>\n"
     ]
    }
   ],
   "source": [
    "b = np.array([[20, 30, 50],[40, 50, 60]])\n",
    "print(b)\n",
    "print(type(b))"
   ]
  },
  {
   "cell_type": "code",
   "execution_count": 12,
   "metadata": {},
   "outputs": [
    {
     "name": "stdout",
     "output_type": "stream",
     "text": [
      "hello\n"
     ]
    }
   ],
   "source": [
    "print(\"hello\")"
   ]
  },
  {
   "cell_type": "code",
   "execution_count": 14,
   "metadata": {},
   "outputs": [
    {
     "name": "stdout",
     "output_type": "stream",
     "text": [
      "[[20 30 50]\n",
      " [40 50 60]\n",
      " [ 1  2  3]]\n"
     ]
    }
   ],
   "source": [
    "b = np.array([[20, 30, 50],[40, 50, 60],[1, 2, 3]])\n",
    "print(b)"
   ]
  },
  {
   "cell_type": "code",
   "execution_count": 16,
   "metadata": {},
   "outputs": [
    {
     "name": "stdout",
     "output_type": "stream",
     "text": [
      "[20 30]\n"
     ]
    }
   ],
   "source": [
    "b = np.array([20, 30, 50])\n",
    "print(b[:2])"
   ]
  },
  {
   "cell_type": "code",
   "execution_count": 18,
   "metadata": {},
   "outputs": [
    {
     "name": "stdout",
     "output_type": "stream",
     "text": [
      "[[20 30]\n",
      " [40 50]]\n"
     ]
    }
   ],
   "source": [
    "b = np.array([[20, 30, 50],[40, 50, 60],[1, 2, 3]])\n",
    "print(b[:2,:2])"
   ]
  },
  {
   "cell_type": "code",
   "execution_count": 22,
   "metadata": {},
   "outputs": [
    {
     "name": "stdout",
     "output_type": "stream",
     "text": [
      "(3, 3)\n",
      "9\n",
      "2\n",
      "<class 'numpy.dtype'>\n",
      "3\n",
      "[[20. 30. 50.]\n",
      " [40. 50. 60.]\n",
      " [ 1.  2.  3.]]\n"
     ]
    }
   ],
   "source": [
    "b = np.array([[20, 30, 50],[40, 50, 60],[1, 2, 3]])\n",
    "print(np.shape(b)) #rows, columns\n",
    "print(np.size(b)) #num of elements\n",
    "print(np.ndim(b)) #dimension of array\n",
    "print(np.dtype) #datatype of array\n",
    "print(len(b)) #length of array\n",
    "print(b.astype(float)) #change the datatype"
   ]
  },
  {
   "cell_type": "code",
   "execution_count": 23,
   "metadata": {},
   "outputs": [
    {
     "name": "stdout",
     "output_type": "stream",
     "text": [
      "[40 60 80]\n",
      "[-20 -20 -20]\n",
      "[ 300  800 1500]\n",
      "[0.33333333 0.5        0.6       ]\n"
     ]
    }
   ],
   "source": [
    "a = np.array([10,20,30])\n",
    "b = np.array([30,40,50])\n",
    "\n",
    "print(np.add(a,b))\n",
    "print(np.subtract(a,b))\n",
    "print(np.multiply(a,b))\n",
    "print(np.divide(a,b))"
   ]
  },
  {
   "cell_type": "code",
   "execution_count": 24,
   "metadata": {},
   "outputs": [
    {
     "name": "stdout",
     "output_type": "stream",
     "text": [
      "[ 1000  8000 27000]\n"
     ]
    }
   ],
   "source": [
    "a = np.array([10,20,30])\n",
    "b = np.array([3])\n",
    "print(np.power(a,b))"
   ]
  },
  {
   "cell_type": "code",
   "execution_count": 26,
   "metadata": {},
   "outputs": [
    {
     "name": "stdout",
     "output_type": "stream",
     "text": [
      "[10. 20. 30.]\n",
      "[ 1000  8000 27000]\n"
     ]
    }
   ],
   "source": [
    "a = np.array([1000, 8000, 27000])\n",
    "print(np.cbrt(a))\n",
    "print(a.astype(int))"
   ]
  },
  {
   "cell_type": "code",
   "execution_count": 33,
   "metadata": {},
   "outputs": [
    {
     "name": "stdout",
     "output_type": "stream",
     "text": [
      "[[ 10  20  30]\n",
      " [130 240 540]\n",
      " [  1   2   3]\n",
      " [  3   4   5]]\n",
      "[[ 10  20  30   1   2   3]\n",
      " [130 240 540   3   4   5]]\n",
      "[[ 10  20  30]\n",
      " [130 240 540]\n",
      " [  1   2   3]\n",
      " [  3   4   5]]\n"
     ]
    }
   ],
   "source": [
    "#Concatnate\n",
    "a = np.array([[10,20,30],[130,240,540]])\n",
    "b = np.array([[1,2,3],[3,4,5]])\n",
    "\n",
    "print(np.concatenate([a,b]))\n",
    "print(np.hstack([a,b])) \n",
    "print(np.vstack([a,b]))"
   ]
  },
  {
   "cell_type": "code",
   "execution_count": 34,
   "metadata": {},
   "outputs": [
    {
     "name": "stdout",
     "output_type": "stream",
     "text": [
      "[array([10, 20]), array([ 30, 130]), array([240, 540])]\n"
     ]
    }
   ],
   "source": [
    "a = np.array([10,20,30,130,240,540])\n",
    "print(np.array_split(a,3))"
   ]
  },
  {
   "cell_type": "code",
   "execution_count": 35,
   "metadata": {},
   "outputs": [
    {
     "name": "stdout",
     "output_type": "stream",
     "text": [
      "[array([[10, 20, 30]]), array([[130, 240, 540]]), array([], shape=(0, 3), dtype=int32)]\n"
     ]
    }
   ],
   "source": [
    "a = np.array([[10,20,30],[130,240,540]])\n",
    "print(np.array_split(a,3))"
   ]
  },
  {
   "cell_type": "code",
   "execution_count": 38,
   "metadata": {},
   "outputs": [
    {
     "name": "stdout",
     "output_type": "stream",
     "text": [
      "[ 10  20  30 130 240 540  90]\n",
      "[ 10  20  50  30 130 240 540]\n",
      "[ 10  20  30 240 540]\n"
     ]
    }
   ],
   "source": [
    "# addding and removing\n",
    "\n",
    "a = np.array([10,20,30,130,240,540])\n",
    "print(np.append(a,90))\n",
    "print(np.insert(a,2,50))\n",
    "print(np.delete(a,3))"
   ]
  },
  {
   "cell_type": "code",
   "execution_count": 41,
   "metadata": {},
   "outputs": [
    {
     "name": "stdout",
     "output_type": "stream",
     "text": [
      "[[130 190 220 240 300 540]\n",
      " [  1   2   3   5   5   6]]\n"
     ]
    }
   ],
   "source": [
    "#Sort, Filter, Search\n",
    "a = np.array([[190,220,300,130,240,540],[6,3,5,2,5,1]])\n",
    "print(np.sort(a))"
   ]
  },
  {
   "cell_type": "code",
   "execution_count": 42,
   "metadata": {},
   "outputs": [
    {
     "name": "stdout",
     "output_type": "stream",
     "text": [
      "(array([4], dtype=int64),)\n"
     ]
    }
   ],
   "source": [
    "a = np.array([10,20,30,130,240,540])\n",
    "s = np.where(a == 240)\n",
    "print(s)"
   ]
  },
  {
   "cell_type": "code",
   "execution_count": 43,
   "metadata": {},
   "outputs": [
    {
     "name": "stdout",
     "output_type": "stream",
     "text": [
      "[130 240 540]\n"
     ]
    }
   ],
   "source": [
    "a = np.array([10,20,30,130,240,540])\n",
    "filter_array = a>100\n",
    "new = a[filter_array]\n",
    "print(new)"
   ]
  },
  {
   "cell_type": "code",
   "execution_count": 45,
   "metadata": {},
   "outputs": [
    {
     "name": "stdout",
     "output_type": "stream",
     "text": [
      "970\n",
      "540\n",
      "10\n",
      "6\n",
      "161.66666666666666\n",
      "[ 10  30  60 190 430 970]\n",
      "[         10         200        6000      780000   187200000 -1991215104]\n"
     ]
    }
   ],
   "source": [
    "#Aggregation Functions\n",
    "a = np.array([10,20,30,130,240,540])\n",
    "print(np.sum(a))\n",
    "print(np.max(a))\n",
    "print(np.min(a))\n",
    "print(np.size(a))\n",
    "print(np.mean(a))\n",
    "print(np.cumsum(a))\n",
    "print(np.cumprod(a))"
   ]
  },
  {
   "cell_type": "code",
   "execution_count": 49,
   "metadata": {},
   "outputs": [
    {
     "name": "stdout",
     "output_type": "stream",
     "text": [
      "202.25\n",
      "194.0\n",
      "200\n",
      "55.68157235567257\n",
      "3100.4375\n"
     ]
    }
   ],
   "source": [
    "#Statistical Functions\n",
    "import statistics as stats\n",
    "baked_food = [200, 300, 150, 130, 200,280, 170, 188]\n",
    "\n",
    "a = np.array(baked_food)\n",
    "print(np.mean(baked_food))\n",
    "print(np.median(baked_food))\n",
    "print(stats.mode(baked_food))\n",
    "print(np.std(baked_food))\n",
    "print(np.var(baked_food))\n"
   ]
  },
  {
   "cell_type": "code",
   "execution_count": 52,
   "metadata": {},
   "outputs": [
    {
     "name": "stdout",
     "output_type": "stream",
     "text": [
      "[[1.         0.99015454]\n",
      " [0.99015454 1.        ]]\n"
     ]
    }
   ],
   "source": [
    "tobacco_consumption = [30, 50, 10, 30,50, 40]\n",
    "deaths = [100, 120 ,70, 100, 120 , 112]\n",
    "\n",
    "print(np.corrcoef([tobacco_consumption,deaths]))"
   ]
  }
 ],
 "metadata": {
  "kernelspec": {
   "display_name": "Python 3",
   "language": "python",
   "name": "python3"
  },
  "language_info": {
   "codemirror_mode": {
    "name": "ipython",
    "version": 3
   },
   "file_extension": ".py",
   "mimetype": "text/x-python",
   "name": "python",
   "nbconvert_exporter": "python",
   "pygments_lexer": "ipython3",
   "version": "3.12.2"
  }
 },
 "nbformat": 4,
 "nbformat_minor": 2
}
