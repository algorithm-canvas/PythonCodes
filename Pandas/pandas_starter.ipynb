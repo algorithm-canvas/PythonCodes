{
 "cells": [
  {
   "cell_type": "code",
   "execution_count": 1,
   "metadata": {},
   "outputs": [
    {
     "name": "stdout",
     "output_type": "stream",
     "text": [
      "0     Harry\n",
      "1       Sam\n",
      "2    Juliet\n",
      "3    Robert\n",
      "4       Max\n",
      "dtype: object\n"
     ]
    }
   ],
   "source": [
    "#importing pandas\n",
    "import pandas as pd\n",
    "#creating  list \n",
    "data=[\"Harry\",\"Sam\",\"Juliet\",\"Robert\",\"Max\"]\n",
    "#creating pandas Series\n",
    "df=pd.Series(data)\n",
    "#printing Series\n",
    "print(df)\n"
   ]
  },
  {
   "cell_type": "code",
   "execution_count": 2,
   "metadata": {},
   "outputs": [
    {
     "name": "stdout",
     "output_type": "stream",
     "text": [
      "     Name  Age  Salary\n",
      "0   Harry   25   30000\n",
      "1     Sam   28   45000\n",
      "2  Juliet   31   25000\n"
     ]
    }
   ],
   "source": [
    "data= {\"Name\":[\"Harry\",\"Sam\",\"Juliet\"],\n",
    "       \"Age\":[25,28,31],\n",
    "       \"Salary\": [30000,45000,25000]}\n",
    "df = pd.DataFrame(data)\n",
    "print(df)"
   ]
  },
  {
   "cell_type": "code",
   "execution_count": null,
   "metadata": {},
   "outputs": [],
   "source": [
    "data = pd.read_csv(\"path/FileName.csv\")"
   ]
  },
  {
   "cell_type": "code",
   "execution_count": null,
   "metadata": {},
   "outputs": [],
   "source": [
    "data = pd.read_excel(\"path/FileName.xlsx\")"
   ]
  },
  {
   "cell_type": "code",
   "execution_count": 7,
   "metadata": {},
   "outputs": [
    {
     "name": "stdout",
     "output_type": "stream",
     "text": [
      "       Name  Age  Salary\n",
      "0     Harry   25   30000\n",
      "1       Sam   28   45000\n",
      "2    Juliet   31   25000\n",
      "3    satyam   21   25000\n",
      "4    Shivam   18   65000\n",
      "5   shubham   16   45000\n",
      "6  Shraddha    7   32000\n",
      "7    Varsha   42   56000\n",
      "    Name  Age  Salary\n",
      "0  Harry   25   30000\n",
      "1    Sam   28   45000\n",
      "       Name  Age  Salary\n",
      "6  Shraddha    7   32000\n",
      "7    Varsha   42   56000\n"
     ]
    }
   ],
   "source": [
    "data= {\"Name\":[\"Harry\",\"Sam\",\"Juliet\",\"satyam\",\"Shivam\",\"shubham\",\"Shraddha\",\"Varsha\"],\n",
    "       \"Age\":[25,28,31,21,18,16,7,42],\n",
    "       \"Salary\": [30000,45000,25000,25000,65000,45000,32000,56000]}\n",
    "df = pd.DataFrame(data)\n",
    "print(df)\n",
    "print(df.head(2))\n",
    "print(df.tail(2))"
   ]
  },
  {
   "cell_type": "code",
   "execution_count": 8,
   "metadata": {},
   "outputs": [
    {
     "name": "stdout",
     "output_type": "stream",
     "text": [
      "<bound method DataFrame.info of        Name  Age  Salary\n",
      "0     Harry   25   30000\n",
      "1       Sam   28   45000\n",
      "2    Juliet   31   25000\n",
      "3    satyam   21   25000\n",
      "4    Shivam   18   65000\n",
      "5   shubham   16   45000\n",
      "6  Shraddha    7   32000\n",
      "7    Varsha   42   56000>\n"
     ]
    }
   ],
   "source": [
    "print(df.info)"
   ]
  },
  {
   "cell_type": "code",
   "execution_count": 9,
   "metadata": {},
   "outputs": [
    {
     "name": "stdout",
     "output_type": "stream",
     "text": [
      "<bound method NDFrame.describe of        Name  Age  Salary\n",
      "0     Harry   25   30000\n",
      "1       Sam   28   45000\n",
      "2    Juliet   31   25000\n",
      "3    satyam   21   25000\n",
      "4    Shivam   18   65000\n",
      "5   shubham   16   45000\n",
      "6  Shraddha    7   32000\n",
      "7    Varsha   42   56000>\n"
     ]
    }
   ],
   "source": [
    "print(df.describe)"
   ]
  },
  {
   "cell_type": "code",
   "execution_count": 15,
   "metadata": {},
   "outputs": [
    {
     "name": "stdout",
     "output_type": "stream",
     "text": [
      "1\n"
     ]
    }
   ],
   "source": [
    "#Handling Duplicates\n",
    "data= {\"Name\":[\"Harry\",\"Sam\",\"Juliet\",\"Harry\"],\n",
    "       \"Age\":[25,28,31,32],\n",
    "       \"Salary\": [30000,45000,25000,30000]}\n",
    "df = pd.DataFrame(data)\n",
    "print(df[\"Name\"].duplicated().sum())"
   ]
  },
  {
   "cell_type": "code",
   "execution_count": 18,
   "metadata": {},
   "outputs": [
    {
     "name": "stdout",
     "output_type": "stream",
     "text": [
      "     Name  Age  Salary\n",
      "0   Harry   25   30000\n",
      "1     Sam   28   45000\n",
      "2  Juliet   31   25000\n"
     ]
    }
   ],
   "source": [
    "data= {\"Name\":[\"Harry\",\"Sam\",\"Juliet\",\"Harry\"],\n",
    "       \"Age\":[25,28,31,32],\n",
    "       \"Salary\": [30000,45000,25000,30000]}\n",
    "df = pd.DataFrame(data)\n",
    "print(df.drop_duplicates(\"Name\"))"
   ]
  },
  {
   "cell_type": "code",
   "execution_count": 25,
   "metadata": {},
   "outputs": [
    {
     "name": "stdout",
     "output_type": "stream",
     "text": [
      "     Name  Age  Salary\n",
      "0   Harry   25   30000\n",
      "1     Sam   28   45000\n",
      "2  Juliet   31   25000\n",
      "3   Harry   32   30000\n",
      "4     NaN   76   45000\n"
     ]
    }
   ],
   "source": [
    "data= {\"Name\":[\"Harry\",\"Sam\",\"Juliet\",\"Harry\",\"NaN\"],\n",
    "       \"Age\":[25,28,31,32,76],\n",
    "       \"Salary\": [30000,45000,25000,30000,45000]}\n",
    "df = pd.DataFrame(data)\n",
    "print(df)"
   ]
  },
  {
   "cell_type": "code",
   "execution_count": 28,
   "metadata": {},
   "outputs": [
    {
     "name": "stdout",
     "output_type": "stream",
     "text": [
      "Name      0\n",
      "Age       0\n",
      "Salary    0\n",
      "dtype: int64\n"
     ]
    }
   ],
   "source": [
    "print(df.isnull().sum())"
   ]
  },
  {
   "cell_type": "code",
   "execution_count": 26,
   "metadata": {},
   "outputs": [
    {
     "name": "stdout",
     "output_type": "stream",
     "text": [
      "     Name  Age  Salary\n",
      "0   Harry   25   30000\n",
      "1     Sam   28   45000\n",
      "2  Juliet   31   25000\n",
      "3   Harry   32   30000\n",
      "4     NaN   76   45000\n"
     ]
    }
   ],
   "source": [
    "print(df.dropna())"
   ]
  },
  {
   "cell_type": "code",
   "execution_count": 27,
   "metadata": {},
   "outputs": [
    {
     "ename": "AttributeError",
     "evalue": "'dict' object has no attribute 'replace'",
     "output_type": "error",
     "traceback": [
      "\u001b[1;31m---------------------------------------------------------------------------\u001b[0m",
      "\u001b[1;31mAttributeError\u001b[0m                            Traceback (most recent call last)",
      "Cell \u001b[1;32mIn[27], line 2\u001b[0m\n\u001b[0;32m      1\u001b[0m \u001b[38;5;28;01mimport\u001b[39;00m \u001b[38;5;21;01mnumpy\u001b[39;00m \u001b[38;5;28;01mas\u001b[39;00m \u001b[38;5;21;01mnp\u001b[39;00m\n\u001b[1;32m----> 2\u001b[0m \u001b[38;5;28mprint\u001b[39m(\u001b[43mdata\u001b[49m\u001b[38;5;241;43m.\u001b[39;49m\u001b[43mreplace\u001b[49m(np\u001b[38;5;241m.\u001b[39mnan,hi))\n",
      "\u001b[1;31mAttributeError\u001b[0m: 'dict' object has no attribute 'replace'"
     ]
    }
   ],
   "source": [
    "import numpy as np\n",
    "print(data.replace(np.nan,hi))"
   ]
  },
  {
   "cell_type": "code",
   "execution_count": 30,
   "metadata": {},
   "outputs": [
    {
     "name": "stdout",
     "output_type": "stream",
     "text": [
      "     Name  Age  Salary Get Salary\n",
      "0   Harry   25   30000     salary\n",
      "1     Sam   28   45000     salary\n",
      "2  Juliet   31   25000     salary\n",
      "3   Harry   32   30000     salary\n",
      "4     NaN   76       0  No salary\n"
     ]
    }
   ],
   "source": [
    "data= {\"Name\":[\"Harry\",\"Sam\",\"Juliet\",\"Harry\",\"NaN\"],\n",
    "       \"Age\":[25,28,31,32,76],\n",
    "       \"Salary\": [30000,45000,25000,30000,0]}\n",
    "df = pd.DataFrame(data)\n",
    "df.loc[(df[\"Salary\"] == 0), \"Get Salary\"] = \"No salary\"\n",
    "df.loc[(df[\"Salary\"] > 0), \"Get Salary\"] = \"salary\"\n",
    "print(df)"
   ]
  },
  {
   "cell_type": "code",
   "execution_count": 36,
   "metadata": {},
   "outputs": [
    {
     "name": "stdout",
     "output_type": "stream",
     "text": [
      "  First Name Last Name  Age  Salary\n",
      "0      Harry    Sharma   25   30000\n",
      "1        Sam    Tiwari   28   45000\n",
      "2     Juliet     Singh   31   25000\n",
      "3      Harry     Yadav   32   30000\n",
      "4      Kiran     Kumar   76   45000\n",
      "  First Name Last Name  Age  Salary     Full Name\n",
      "0      Harry    Sharma   25   30000  HARRY SHARMA\n",
      "1        Sam    Tiwari   28   45000    SAM TIWARI\n",
      "2     Juliet     Singh   31   25000  JULIET SINGH\n",
      "3      Harry     Yadav   32   30000   HARRY YADAV\n",
      "4      Kiran     Kumar   76   45000   KIRAN KUMAR\n"
     ]
    }
   ],
   "source": [
    "data= {\"First Name\":[\"Harry\",\"Sam\",\"Juliet\",\"Harry\",\"Kiran\"],\n",
    "       \"Last Name\":[\"Sharma\",\"Tiwari\",\"Singh\",\"Yadav\",\"Kumar\"],\n",
    "       \"Age\":[25,28,31,32,76],\n",
    "       \"Salary\": [30000,45000,25000,30000,45000]}\n",
    "df = pd.DataFrame(data)\n",
    "print(df)\n",
    "df[\"Full Name\"] = df[\"First Name\"].str.upper() +\" \"+ df[\"Last Name\"].str.upper()\n",
    "print(df)"
   ]
  },
  {
   "cell_type": "code",
   "execution_count": 37,
   "metadata": {},
   "outputs": [
    {
     "name": "stdout",
     "output_type": "stream",
     "text": [
      "  First Name Last Name  Age  Salary\n",
      "0      Harry    Sharma   25   30000\n",
      "1        Sam    Tiwari   28   45000\n",
      "2     Juliet     Singh   31   25000\n",
      "3      Harry     Yadav   32   30000\n",
      "4      Kiran     Kumar   76   45000\n",
      "  First Name Last Name  Age  Salary   Bonus\n",
      "0      Harry    Sharma   25   30000  6000.0\n",
      "1        Sam    Tiwari   28   45000  9000.0\n",
      "2     Juliet     Singh   31   25000  5000.0\n",
      "3      Harry     Yadav   32   30000  6000.0\n",
      "4      Kiran     Kumar   76   45000  9000.0\n"
     ]
    }
   ],
   "source": [
    "data= {\"First Name\":[\"Harry\",\"Sam\",\"Juliet\",\"Harry\",\"Kiran\"],\n",
    "       \"Last Name\":[\"Sharma\",\"Tiwari\",\"Singh\",\"Yadav\",\"Kumar\"],\n",
    "       \"Age\":[25,28,31,32,76],\n",
    "       \"Salary\": [30000,45000,25000,30000,45000]}\n",
    "df = pd.DataFrame(data)\n",
    "print(df)\n",
    "\n",
    "df[\"Bonus\"] = (df[\"Salary\"]/100)*20\n",
    "print(df)"
   ]
  },
  {
   "cell_type": "code",
   "execution_count": 40,
   "metadata": {},
   "outputs": [
    {
     "name": "stdout",
     "output_type": "stream",
     "text": [
      "      Name\n",
      "0    Harry\n",
      "1  Samsham\n",
      "2   Juliet\n",
      "3    Harry\n",
      "4    Kiran\n",
      "      Name Short_Names\n",
      "0    Harry         Har\n",
      "1  Samsham         Sam\n",
      "2   Juliet         Jul\n",
      "3    Harry         Har\n",
      "4    Kiran         Kir\n"
     ]
    }
   ],
   "source": [
    "data= {\"Name\":[\"Harry\",\"Samsham\",\"Juliet\",\"Harry\",\"Kiran\"]}\n",
    "\n",
    "df = pd.DataFrame(data)\n",
    "print(df)\n",
    "\n",
    "def extract(value):\n",
    "    return value[0:3]\n",
    "\n",
    "df[\"Short_Names\"] = df[\"Name\"].map(extract)\n",
    "print(df)"
   ]
  },
  {
   "cell_type": "code",
   "execution_count": 45,
   "metadata": {},
   "outputs": [
    {
     "name": "stdout",
     "output_type": "stream",
     "text": [
      "  First Name Last Name  Age  Salary\n",
      "0      Harry    Sharma   25   30000\n",
      "1        Sam    Tiwari   28   45000\n",
      "2     Juliet     Singh   31   25000\n",
      "3      Harry     Yadav   32   30000\n",
      "4      Kiran     Kumar   76   45000\n",
      "        First Name\n",
      "Salary            \n",
      "25000            1\n",
      "30000            2\n",
      "45000            2\n"
     ]
    }
   ],
   "source": [
    "data= {\"First Name\":[\"Harry\",\"Sam\",\"Juliet\",\"Harry\",\"Kiran\"],\n",
    "       \"Last Name\":[\"Sharma\",\"Tiwari\",\"Singh\",\"Yadav\",\"Kumar\"],\n",
    "       \"Age\":[25,28,31,32,76],\n",
    "       \"Salary\": [30000,45000,25000,30000,45000]}\n",
    "df = pd.DataFrame(data)\n",
    "print(df)\n",
    "\n",
    "gp = df.groupby(\"Salary\",).agg({\"First Name\":\"count\"})\n",
    "print(gp)"
   ]
  },
  {
   "cell_type": "code",
   "execution_count": 46,
   "metadata": {},
   "outputs": [
    {
     "name": "stdout",
     "output_type": "stream",
     "text": [
      "  First Name Last Name  Age  Salary\n",
      "0      Harry    Sharma   25   30000\n",
      "1        Sam    Tiwari   28   45000\n",
      "2     Juliet     Singh   31   25000\n",
      "3      Harry     Yadav   32   30000\n",
      "4      Kiran     Kumar   76   45000\n",
      "\n",
      "  First Name Last Name  Age  Salary\n",
      "0      Harry    Sharma   25   30000\n",
      "1        Sam    Tiwari   28   45000\n",
      "2     Juliet     Singh   31   25000\n",
      "3      Harry     Yadav   32   30000\n",
      "4      Kiran     Kumar   76   45000\n"
     ]
    }
   ],
   "source": [
    "data1= {\"Last Name\":[\"Sharma\",\"Tiwari\",\"Singh\",\"Yadav\",\"Kumar\"],\n",
    "       \"Age\":[25,28,31,32,76],\n",
    "       \"Salary\": [30000,45000,25000,30000,45000]}\n",
    "\n",
    "data2= {\"First Name\":[\"Harry\",\"Sam\",\"Juliet\",\"Harry\",\"Kiran\"],\n",
    "       \"Age\":[25,28,31,32,76],\n",
    "       \"Salary\": [30000,45000,25000,30000,45000]}\n",
    "\n",
    "df = pd.DataFrame(data)\n",
    "df = pd.DataFrame(data)\n",
    "\n",
    "print(df)\n",
    "print()\n",
    "print(df)"
   ]
  },
  {
   "cell_type": "code",
   "execution_count": 49,
   "metadata": {},
   "outputs": [
    {
     "ename": "TypeError",
     "evalue": "Can only merge Series or DataFrame objects, a <class 'dict'> was passed",
     "output_type": "error",
     "traceback": [
      "\u001b[1;31m---------------------------------------------------------------------------\u001b[0m",
      "\u001b[1;31mTypeError\u001b[0m                                 Traceback (most recent call last)",
      "Cell \u001b[1;32mIn[49], line 1\u001b[0m\n\u001b[1;32m----> 1\u001b[0m \u001b[38;5;28mprint\u001b[39m(\u001b[43mpd\u001b[49m\u001b[38;5;241;43m.\u001b[39;49m\u001b[43mmerge\u001b[49m\u001b[43m(\u001b[49m\u001b[43mdata1\u001b[49m\u001b[43m,\u001b[49m\u001b[43mdata2\u001b[49m\u001b[43m,\u001b[49m\u001b[43mon\u001b[49m\u001b[43m \u001b[49m\u001b[38;5;241;43m=\u001b[39;49m\u001b[43m \u001b[49m\u001b[38;5;124;43m\"\u001b[39;49m\u001b[38;5;124;43mName\u001b[39;49m\u001b[38;5;124;43m\"\u001b[39;49m\u001b[43m)\u001b[49m)\n",
      "File \u001b[1;32mc:\\Users\\DELL\\AppData\\Local\\Programs\\Python\\Python312\\Lib\\site-packages\\pandas\\core\\reshape\\merge.py:152\u001b[0m, in \u001b[0;36mmerge\u001b[1;34m(left, right, how, on, left_on, right_on, left_index, right_index, sort, suffixes, copy, indicator, validate)\u001b[0m\n\u001b[0;32m    135\u001b[0m \u001b[38;5;129m@Substitution\u001b[39m(\u001b[38;5;124m\"\u001b[39m\u001b[38;5;130;01m\\n\u001b[39;00m\u001b[38;5;124mleft : DataFrame or named Series\u001b[39m\u001b[38;5;124m\"\u001b[39m)\n\u001b[0;32m    136\u001b[0m \u001b[38;5;129m@Appender\u001b[39m(_merge_doc, indents\u001b[38;5;241m=\u001b[39m\u001b[38;5;241m0\u001b[39m)\n\u001b[0;32m    137\u001b[0m \u001b[38;5;28;01mdef\u001b[39;00m \u001b[38;5;21mmerge\u001b[39m(\n\u001b[1;32m   (...)\u001b[0m\n\u001b[0;32m    150\u001b[0m     validate: \u001b[38;5;28mstr\u001b[39m \u001b[38;5;241m|\u001b[39m \u001b[38;5;28;01mNone\u001b[39;00m \u001b[38;5;241m=\u001b[39m \u001b[38;5;28;01mNone\u001b[39;00m,\n\u001b[0;32m    151\u001b[0m ) \u001b[38;5;241m-\u001b[39m\u001b[38;5;241m>\u001b[39m DataFrame:\n\u001b[1;32m--> 152\u001b[0m     left_df \u001b[38;5;241m=\u001b[39m \u001b[43m_validate_operand\u001b[49m\u001b[43m(\u001b[49m\u001b[43mleft\u001b[49m\u001b[43m)\u001b[49m\n\u001b[0;32m    153\u001b[0m     right_df \u001b[38;5;241m=\u001b[39m _validate_operand(right)\n\u001b[0;32m    154\u001b[0m     \u001b[38;5;28;01mif\u001b[39;00m how \u001b[38;5;241m==\u001b[39m \u001b[38;5;124m\"\u001b[39m\u001b[38;5;124mcross\u001b[39m\u001b[38;5;124m\"\u001b[39m:\n",
      "File \u001b[1;32mc:\\Users\\DELL\\AppData\\Local\\Programs\\Python\\Python312\\Lib\\site-packages\\pandas\\core\\reshape\\merge.py:2692\u001b[0m, in \u001b[0;36m_validate_operand\u001b[1;34m(obj)\u001b[0m\n\u001b[0;32m   2690\u001b[0m     \u001b[38;5;28;01mreturn\u001b[39;00m obj\u001b[38;5;241m.\u001b[39mto_frame()\n\u001b[0;32m   2691\u001b[0m \u001b[38;5;28;01melse\u001b[39;00m:\n\u001b[1;32m-> 2692\u001b[0m     \u001b[38;5;28;01mraise\u001b[39;00m \u001b[38;5;167;01mTypeError\u001b[39;00m(\n\u001b[0;32m   2693\u001b[0m         \u001b[38;5;124mf\u001b[39m\u001b[38;5;124m\"\u001b[39m\u001b[38;5;124mCan only merge Series or DataFrame objects, a \u001b[39m\u001b[38;5;132;01m{\u001b[39;00m\u001b[38;5;28mtype\u001b[39m(obj)\u001b[38;5;132;01m}\u001b[39;00m\u001b[38;5;124m was passed\u001b[39m\u001b[38;5;124m\"\u001b[39m\n\u001b[0;32m   2694\u001b[0m     )\n",
      "\u001b[1;31mTypeError\u001b[0m: Can only merge Series or DataFrame objects, a <class 'dict'> was passed"
     ]
    }
   ],
   "source": [
    "print(pd.merge(data1,data2,on = \"Name\"))"
   ]
  },
  {
   "cell_type": "code",
   "execution_count": null,
   "metadata": {},
   "outputs": [],
   "source": []
  }
 ],
 "metadata": {
  "kernelspec": {
   "display_name": "Python 3",
   "language": "python",
   "name": "python3"
  },
  "language_info": {
   "codemirror_mode": {
    "name": "ipython",
    "version": 3
   },
   "file_extension": ".py",
   "mimetype": "text/x-python",
   "name": "python",
   "nbconvert_exporter": "python",
   "pygments_lexer": "ipython3",
   "version": "3.12.2"
  }
 },
 "nbformat": 4,
 "nbformat_minor": 2
}
